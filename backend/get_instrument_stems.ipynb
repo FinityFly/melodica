{
 "cells": [
  {
   "cell_type": "code",
   "execution_count": null,
   "metadata": {},
   "outputs": [],
   "source": [
    "import requests\n",
    "import os\n",
    "import json\n",
    "import time\n",
    "from dotenv import load_dotenv\n",
    "from basic_pitch.inference import predict"
   ]
  },
  {
   "cell_type": "code",
   "execution_count": null,
   "metadata": {},
   "outputs": [],
   "source": [
    "load_dotenv()\n",
    "\n",
    "MOISES_API_KEY = os.getenv('MOISES_KEY')\n",
    "AUTHORIZATION_HEADER = {'Authorization': MOISES_API_KEY}\n",
    "WORKFLOW_ID = os.getenv('WORKFLOW_ID')"
   ]
  },
  {
   "cell_type": "code",
   "execution_count": null,
   "metadata": {},
   "outputs": [],
   "source": [
    "def get_moises_upload_url():\n",
    "    upload_get_url = \"https://developer-api.moises.ai/api/upload\"\n",
    "    upload_response = requests.get(upload_get_url,  headers=AUTHORIZATION_HEADER)\n",
    "    return upload_response.json()\n",
    "\n",
    "def upload_file(upload_file_url, file_path):\n",
    "    file_header = {'content-type': 'multipart/form-data'}\n",
    "    files = {'file': open(file_path, 'rb')}\n",
    "    upload_file_put = requests.put(upload_file_url, headers=file_header, files=files)\n",
    "    if upload_file_put.status_code == 200:\n",
    "        print(\"File uploaded successfully!\")\n",
    "    else:\n",
    "        print(\"File upload failed\")\n",
    "\n",
    "def post_file(download_url):\n",
    "    post_file_url = \"https://developer-api.moises.ai/api/job\"\n",
    "    post_file_header = {'content-type': 'application/json', 'Authorization': MOISES_API_KEY}\n",
    "    data = {'name': f'job_{time.strftime(\"%Y%m%d-%H%M%S\")}', 'workflow': WORKFLOW_ID, 'params': {'inputUrl': download_url}}\n",
    "    \n",
    "    job_request_post = requests.post(post_file_url, headers=post_file_header, data=json.dumps(data))\n",
    "    if job_request_post.status_code == 200:\n",
    "        print(\"Job created successfully!\")\n",
    "        return job_request_post.json()\n",
    "    else:\n",
    "        print(\"Job creation failed\")\n",
    "        return job_request_post.json()\n",
    "\n",
    "def get_job_response(job_id):\n",
    "    get_job_url = f\"https://developer-api.moises.ai/api/job/{job_id}\"\n",
    "    get_job_response = requests.get(get_job_url, headers=AUTHORIZATION_HEADER)\n",
    "\n",
    "    while get_job_response.json()['status'] != 'SUCCEEDED':\n",
    "        get_job_response = requests.get(get_job_url, headers=AUTHORIZATION_HEADER)\n",
    "\n",
    "    print(\"Job finished successfully!\")\n",
    "    return get_job_response.json()"
   ]
  },
  {
   "cell_type": "code",
   "execution_count": null,
   "metadata": {},
   "outputs": [],
   "source": [
    "upload_url = get_moises_upload_url()\n",
    "print(upload_url)\n",
    "\n",
    "upload_file(upload_url['uploadUrl'], 'assets/samples/input/short_sample.mp3')\n",
    "\n",
    "post_file_response = post_file(upload_url['downloadUrl'])\n",
    "print(post_file_response)\n",
    "\n",
    "outputs = get_job_response(post_file_response['id'])\n",
    "print(outputs['result'])"
   ]
  },
  {
   "cell_type": "code",
   "execution_count": null,
   "metadata": {},
   "outputs": [],
   "source": [
    "def download_audio(url, file_name):\n",
    "    response = requests.get(url, allow_redirects=True)\n",
    "    if response.status_code == 200:\n",
    "        with open(file_name, \"wb\") as file:\n",
    "            file.write(response.content)\n",
    "        print(\"Audio file downloaded successfully\")\n",
    "    else:\n",
    "        print(\"Failed to download audio file\")"
   ]
  },
  {
   "cell_type": "code",
   "execution_count": null,
   "metadata": {},
   "outputs": [],
   "source": [
    "for output_name, output_file in outputs['result'].items():\n",
    "    filename = f'{output_name}_{time.strftime(\"%Y%m%d-%H%M%S\")}'\n",
    "    filepath = f'assets/output_wav/{filename}'\n",
    "    download_audio(output_file, filepath + '.wav')\n",
    "    model_output, midi_output, note_events = predict(filepath + '.wav')\n",
    "    midi_output.write(filepath + '.mid')\n",
    "    print(f\"Converted {filename} to midi successfully\")"
   ]
  }
 ],
 "metadata": {
  "kernelspec": {
   "display_name": "Python 3",
   "language": "python",
   "name": "python3"
  },
  "language_info": {
   "codemirror_mode": {
    "name": "ipython",
    "version": 3
   },
   "file_extension": ".py",
   "mimetype": "text/x-python",
   "name": "python",
   "nbconvert_exporter": "python",
   "pygments_lexer": "ipython3",
   "version": "3.11.5"
  },
  "orig_nbformat": 4
 },
 "nbformat": 4,
 "nbformat_minor": 2
}
